{
    "cells": [
        {
            "cell_type": "code",
            "execution_count": 1,
            "source": [
                "from numpy import loadtxt\r\n",
                "from tensorflow.python.keras.models import Sequential\r\n",
                "from tensorflow.python.keras.layers import Dense \r\n",
                "import pandas as pd \r\n",
                "import numpy as np\r\n",
                "from sklearn.model_selection import GridSearchCV\r\n",
                "from tensorflow.python.keras.wrappers.scikit_learn import KerasClassifier\r\n",
                "import matplotlib.pyplot as plt\r\n",
                "from tensorflow.keras.optimizers import SGD"
            ],
            "outputs": [],
            "metadata": {}
        },
        {
            "cell_type": "code",
            "execution_count": 2,
            "source": [
                "data = loadtxt('pima-indians-diabetes.csv', delimiter=',')"
            ],
            "outputs": [],
            "metadata": {}
        },
        {
            "cell_type": "code",
            "execution_count": 3,
            "source": [
                "X = data[:, 0:8]\r\n",
                "y = data[:, 8]"
            ],
            "outputs": [],
            "metadata": {}
        },
        {
            "cell_type": "code",
            "execution_count": 4,
            "source": [
                "ann_model = Sequential()\r\n",
                "ann_model.add(Dense(12, input_dim=8, activation='relu'))\r\n",
                "ann_model.add(Dense(8, activation='relu'))\r\n",
                "ann_model.add(Dense(1, activation='sigmoid'))"
            ],
            "outputs": [],
            "metadata": {}
        },
        {
            "cell_type": "code",
            "execution_count": 5,
            "source": [
                "ann_model.compile(loss='binary_crossentropy', optimizer='adam', metrics=['accuracy'])"
            ],
            "outputs": [],
            "metadata": {}
        },
        {
            "cell_type": "code",
            "execution_count": 6,
            "source": [
                "ann_model.fit(X, y, epochs=150, batch_size=10, verbose=0)"
            ],
            "outputs": [
                {
                    "output_type": "execute_result",
                    "data": {
                        "text/plain": [
                            "<tensorflow.python.keras.callbacks.History at 0x2951ef80730>"
                        ]
                    },
                    "metadata": {},
                    "execution_count": 6
                }
            ],
            "metadata": {}
        },
        {
            "cell_type": "code",
            "execution_count": 7,
            "source": [
                "_, accuracy = ann_model.evaluate(X,y)\r\n",
                "print('Accuracy: %.2f' % (accuracy*100))"
            ],
            "outputs": [
                {
                    "output_type": "stream",
                    "name": "stdout",
                    "text": [
                        "24/24 [==============================] - 1s 8ms/step - loss: 0.5064 - accuracy: 0.7435\n",
                        "Accuracy: 74.35\n"
                    ]
                }
            ],
            "metadata": {}
        },
        {
            "cell_type": "code",
            "execution_count": 8,
            "source": [
                "predictions = ann_model.predict(X)"
            ],
            "outputs": [],
            "metadata": {}
        },
        {
            "cell_type": "code",
            "execution_count": 9,
            "source": [
                "for i in range(5):\r\n",
                "    print('%s => %d (expected %d)' % (X[i].tolist(), predictions[i], y[i]))"
            ],
            "outputs": [
                {
                    "output_type": "stream",
                    "name": "stdout",
                    "text": [
                        "[6.0, 148.0, 72.0, 35.0, 0.0, 33.6, 0.627, 50.0] => 0 (expected 1)\n",
                        "[1.0, 85.0, 66.0, 29.0, 0.0, 26.6, 0.351, 31.0] => 0 (expected 0)\n",
                        "[8.0, 183.0, 64.0, 0.0, 0.0, 23.3, 0.672, 32.0] => 0 (expected 1)\n",
                        "[1.0, 89.0, 66.0, 23.0, 94.0, 28.1, 0.167, 21.0] => 0 (expected 0)\n",
                        "[0.0, 137.0, 40.0, 35.0, 168.0, 43.1, 2.288, 33.0] => 0 (expected 1)\n"
                    ]
                }
            ],
            "metadata": {}
        },
        {
            "cell_type": "markdown",
            "source": [
                "TUNING THE MODEL TO IMPROVE ACCURACY AND EFFICIENCY\r\n",
                "Tuning for the Batch Size and the Number of epochs"
            ],
            "metadata": {}
        },
        {
            "cell_type": "code",
            "execution_count": 10,
            "source": [
                "def create_model():\r\n",
                "    model = Sequential()\r\n",
                "    model.add(Dense(12, input_dim=8, activation='relu'))\r\n",
                "    model.add(Dense(1, activation='sigmoid'))\r\n",
                "\r\n",
                "    model.compile(loss='binary_crossentropy', optimizer='adam', metrics=['accuracy'])\r\n",
                "    return model"
            ],
            "outputs": [],
            "metadata": {}
        },
        {
            "cell_type": "code",
            "execution_count": 11,
            "source": [
                "\r\n",
                "seed=7\r\n",
                "np.random.seed(seed)"
            ],
            "outputs": [],
            "metadata": {}
        },
        {
            "cell_type": "code",
            "execution_count": 12,
            "source": [
                "model = KerasClassifier(build_fn=create_model, verbose=0)"
            ],
            "outputs": [],
            "metadata": {}
        },
        {
            "cell_type": "code",
            "execution_count": 13,
            "source": [
                "batch = [10, 20, 40, 60, 80, 100]\r\n",
                "epoch = [10, 50, 100]\r\n",
                "parameter_grid = dict(batch_size=batch, epochs=epoch)\r\n",
                "grid = GridSearchCV(estimator=model, param_grid=parameter_grid, n_jobs=-1, cv=3)\r\n",
                "grid_result = grid.fit(X, y)"
            ],
            "outputs": [],
            "metadata": {}
        },
        {
            "cell_type": "code",
            "execution_count": 14,
            "source": [
                "print('Best %f using %s' % (grid_result.best_score_, grid_result.best_params_))\r\n",
                "means = grid_result.cv_results_['mean_test_score']\r\n",
                "stds = grid_result.cv_results_['std_test_score']\r\n",
                "params = grid_result.cv_results_['params']\r\n",
                "\r\n",
                "for mean, stdev, param, in zip(means, stds, params):\r\n",
                "    print('%f (%f) with: %r' % (mean, stdev, param))"
            ],
            "outputs": [
                {
                    "output_type": "stream",
                    "name": "stdout",
                    "text": [
                        "Best 0.694010 using {'batch_size': 100, 'epochs': 100}\n",
                        "0.617188 (0.017758) with: {'batch_size': 10, 'epochs': 10}\n",
                        "0.660156 (0.016877) with: {'batch_size': 10, 'epochs': 50}\n",
                        "0.664062 (0.033754) with: {'batch_size': 10, 'epochs': 100}\n",
                        "0.522135 (0.017566) with: {'batch_size': 20, 'epochs': 10}\n",
                        "0.660156 (0.041463) with: {'batch_size': 20, 'epochs': 50}\n",
                        "0.691406 (0.019918) with: {'batch_size': 20, 'epochs': 100}\n",
                        "0.548177 (0.043420) with: {'batch_size': 40, 'epochs': 10}\n",
                        "0.617188 (0.008438) with: {'batch_size': 40, 'epochs': 50}\n",
                        "0.680990 (0.029635) with: {'batch_size': 40, 'epochs': 100}\n",
                        "0.588542 (0.064133) with: {'batch_size': 60, 'epochs': 10}\n",
                        "0.583333 (0.061045) with: {'batch_size': 60, 'epochs': 50}\n",
                        "0.671875 (0.017758) with: {'batch_size': 60, 'epochs': 100}\n",
                        "0.484375 (0.105445) with: {'batch_size': 80, 'epochs': 10}\n",
                        "0.596354 (0.032264) with: {'batch_size': 80, 'epochs': 50}\n",
                        "0.630208 (0.025780) with: {'batch_size': 80, 'epochs': 100}\n",
                        "0.454427 (0.091628) with: {'batch_size': 100, 'epochs': 10}\n",
                        "0.611979 (0.022402) with: {'batch_size': 100, 'epochs': 50}\n",
                        "0.694010 (0.023510) with: {'batch_size': 100, 'epochs': 100}\n"
                    ]
                }
            ],
            "metadata": {}
        },
        {
            "cell_type": "code",
            "execution_count": 15,
            "source": [
                "def create_model_1(optimizer='adam'):\r\n",
                "    model_1 = Sequential()\r\n",
                "    model_1.add(Dense(12, input_dim=8, activation='relu'))\r\n",
                "    model_1.add(Dense(1, activation='sigmoid'))\r\n",
                "\r\n",
                "    model_1.compile(loss='binary_crossentropy', optimizer=optimizer, metrics=['accuracy'])\r\n",
                "    return model_1"
            ],
            "outputs": [],
            "metadata": {}
        },
        {
            "cell_type": "markdown",
            "source": [
                "Tuning the optimization algorithm "
            ],
            "metadata": {}
        },
        {
            "cell_type": "code",
            "execution_count": 16,
            "source": [
                "model_1_1 = KerasClassifier(build_fn=create_model_1, epochs=100, batch_size=10, verbose=0)"
            ],
            "outputs": [],
            "metadata": {}
        },
        {
            "cell_type": "code",
            "execution_count": 17,
            "source": [
                "optimizer = ['SGD', 'RMSprop', 'Adagrad', 'Adadelta', 'Adam', 'Adamax', 'Nadam']\r\n",
                "param_grid = dict(optimizer=optimizer)\r\n",
                "grid = GridSearchCV(estimator=model_1_1, param_grid=param_grid, n_jobs=-1, cv=3)\r\n",
                "grid_result = grid.fit(X, y)"
            ],
            "outputs": [],
            "metadata": {}
        },
        {
            "cell_type": "code",
            "execution_count": 18,
            "source": [
                "print('Best: %f using %s' % (grid_result.best_score_, grid_result.best_params_))\r\n",
                "means = grid_result.cv_results_['mean_test_score']\r\n",
                "stds = grid_result.cv_results_['std_test_score']\r\n",
                "params = grid_result.cv_results_['params']\r\n",
                "\r\n",
                "for mean, stdev, param in zip(means, stds, params):\r\n",
                "    print('%f (%f) with %r' % (mean, stdev, param))"
            ],
            "outputs": [
                {
                    "output_type": "stream",
                    "name": "stdout",
                    "text": [
                        "Best: 0.720052 using {'optimizer': 'Adam'}\n",
                        "0.662760 (0.034104) with {'optimizer': 'SGD'}\n",
                        "0.636719 (0.005524) with {'optimizer': 'RMSprop'}\n",
                        "0.613281 (0.020915) with {'optimizer': 'Adagrad'}\n",
                        "0.630208 (0.024150) with {'optimizer': 'Adadelta'}\n",
                        "0.720052 (0.026557) with {'optimizer': 'Adam'}\n",
                        "0.673177 (0.032578) with {'optimizer': 'Adamax'}\n",
                        "0.688802 (0.012075) with {'optimizer': 'Nadam'}\n"
                    ]
                }
            ],
            "metadata": {}
        },
        {
            "cell_type": "markdown",
            "source": [
                "Tuning the Learning rate and the Momentum"
            ],
            "metadata": {}
        },
        {
            "cell_type": "code",
            "execution_count": 19,
            "source": [
                "\r\n",
                "def create_model_2(learn_rate=0.01, momentum=0):\r\n",
                "    model_2 = Sequential()\r\n",
                "    model_2.add(Dense(12, input_dim=8, activation='relu'))\r\n",
                "    model_2.add(Dense(1, activation='sigmoid'))\r\n",
                "\r\n",
                "    optimizer = SGD(learning_rate=learn_rate, momentum=momentum)\r\n",
                "\r\n",
                "    model_2.compile(loss='binary_crossentropy', optimizer=optimizer, metrics=['accuracy'])\r\n",
                "    return model_2"
            ],
            "outputs": [],
            "metadata": {}
        },
        {
            "cell_type": "code",
            "execution_count": 20,
            "source": [
                "model_2_2 = KerasClassifier(build_fn=create_model_2, epochs=100, batch_size=10, verbose=0)"
            ],
            "outputs": [],
            "metadata": {}
        },
        {
            "cell_type": "code",
            "execution_count": 21,
            "source": [
                "learn_rate = [0.001, 0.01, 0.1, 0.2, 0.3]\r\n",
                "momentum = [0.0, 0.2, 0.4, 0.6, 0.8, 0.9]"
            ],
            "outputs": [],
            "metadata": {}
        },
        {
            "cell_type": "code",
            "execution_count": 22,
            "source": [
                "param_grid= dict(learn_rate=learn_rate, momentum=momentum)\r\n",
                "grid = GridSearchCV(estimator=model_2_2, param_grid=param_grid, n_jobs=-1, cv=3)\r\n",
                "grid_result = grid.fit(X, y)"
            ],
            "outputs": [],
            "metadata": {}
        },
        {
            "cell_type": "code",
            "execution_count": 23,
            "source": [
                "print(\"Best: %f using %s\" % (grid_result.best_score_, grid_result.best_params_))\r\n",
                "means = grid_result.cv_results_['mean_test_score']\r\n",
                "stds = grid_result.cv_results_['std_test_score']\r\n",
                "params = grid_result.cv_results_['params']\r\n",
                "\r\n",
                "for mean, stdev, param in zip (means, stds, params):\r\n",
                "    print('%f (%f) with: %r' % (mean, stdev, param))"
            ],
            "outputs": [
                {
                    "output_type": "stream",
                    "name": "stdout",
                    "text": [
                        "Best: 0.696615 using {'learn_rate': 0.001, 'momentum': 0.4}\n",
                        "0.651042 (0.012075) with: {'learn_rate': 0.001, 'momentum': 0.0}\n",
                        "0.662760 (0.040133) with: {'learn_rate': 0.001, 'momentum': 0.2}\n",
                        "0.696615 (0.023073) with: {'learn_rate': 0.001, 'momentum': 0.4}\n",
                        "0.671875 (0.025315) with: {'learn_rate': 0.001, 'momentum': 0.6}\n",
                        "0.677083 (0.033502) with: {'learn_rate': 0.001, 'momentum': 0.8}\n",
                        "0.666667 (0.024774) with: {'learn_rate': 0.001, 'momentum': 0.9}\n",
                        "0.666667 (0.009207) with: {'learn_rate': 0.01, 'momentum': 0.0}\n",
                        "0.643229 (0.030145) with: {'learn_rate': 0.01, 'momentum': 0.2}\n",
                        "0.666667 (0.013279) with: {'learn_rate': 0.01, 'momentum': 0.4}\n",
                        "0.656250 (0.030425) with: {'learn_rate': 0.01, 'momentum': 0.6}\n",
                        "0.649740 (0.026557) with: {'learn_rate': 0.01, 'momentum': 0.8}\n",
                        "0.651042 (0.024774) with: {'learn_rate': 0.01, 'momentum': 0.9}\n",
                        "0.651042 (0.024774) with: {'learn_rate': 0.1, 'momentum': 0.0}\n",
                        "0.651042 (0.024774) with: {'learn_rate': 0.1, 'momentum': 0.2}\n",
                        "0.651042 (0.024774) with: {'learn_rate': 0.1, 'momentum': 0.4}\n",
                        "0.651042 (0.024774) with: {'learn_rate': 0.1, 'momentum': 0.6}\n",
                        "0.651042 (0.024774) with: {'learn_rate': 0.1, 'momentum': 0.8}\n",
                        "0.651042 (0.024774) with: {'learn_rate': 0.1, 'momentum': 0.9}\n",
                        "0.649740 (0.026557) with: {'learn_rate': 0.2, 'momentum': 0.0}\n",
                        "0.651042 (0.024774) with: {'learn_rate': 0.2, 'momentum': 0.2}\n",
                        "0.651042 (0.024774) with: {'learn_rate': 0.2, 'momentum': 0.4}\n",
                        "0.651042 (0.024774) with: {'learn_rate': 0.2, 'momentum': 0.6}\n",
                        "0.651042 (0.024774) with: {'learn_rate': 0.2, 'momentum': 0.8}\n",
                        "0.651042 (0.024774) with: {'learn_rate': 0.2, 'momentum': 0.9}\n",
                        "0.651042 (0.024774) with: {'learn_rate': 0.3, 'momentum': 0.0}\n",
                        "0.651042 (0.024774) with: {'learn_rate': 0.3, 'momentum': 0.2}\n",
                        "0.651042 (0.024774) with: {'learn_rate': 0.3, 'momentum': 0.4}\n",
                        "0.651042 (0.024774) with: {'learn_rate': 0.3, 'momentum': 0.6}\n",
                        "0.651042 (0.024774) with: {'learn_rate': 0.3, 'momentum': 0.8}\n",
                        "0.651042 (0.024774) with: {'learn_rate': 0.3, 'momentum': 0.9}\n"
                    ]
                }
            ],
            "metadata": {}
        },
        {
            "cell_type": "markdown",
            "source": [
                "Tuning Network Weight Inittialization"
            ],
            "metadata": {}
        },
        {
            "cell_type": "code",
            "execution_count": 24,
            "source": [
                "def create_model_3 (init_mode='uniform'):\r\n",
                "    model_3 = Sequential()\r\n",
                "    model_3.add(Dense(12, input_dim=8, kernel_initializer=init_mode, activation='relu'))\r\n",
                "    model_3.add(Dense(1, kernel_initializer=init_mode, activation='sigmoid'))\r\n",
                "\r\n",
                "    model_3.compile(loss='binary_crossentropy', optimizer='adam', metrics=['accuracy'])\r\n",
                "    return model_3"
            ],
            "outputs": [],
            "metadata": {}
        },
        {
            "cell_type": "code",
            "execution_count": 25,
            "source": [
                "model_3_3 = KerasClassifier(build_fn=create_model_3, epochs=100, batch_size=10, verbose=0)"
            ],
            "outputs": [],
            "metadata": {}
        },
        {
            "cell_type": "code",
            "execution_count": 26,
            "source": [
                "init_mode = ['uniform', 'lecun_uniform', 'normal', 'zero', 'glorot_normal', 'glorot_uniform', 'he_normal', 'he_uniform']\r\n",
                "param_grid = dict(init_mode=init_mode)\r\n",
                "grid = GridSearchCV(estimator=model_3_3, param_grid=param_grid, n_jobs=-1, cv=3)\r\n",
                "grid_result.fit(X, y)"
            ],
            "outputs": [
                {
                    "output_type": "execute_result",
                    "data": {
                        "text/plain": [
                            "GridSearchCV(cv=3,\n",
                            "             estimator=<tensorflow.python.keras.wrappers.scikit_learn.KerasClassifier object at 0x000002951F578D60>,\n",
                            "             n_jobs=-1,\n",
                            "             param_grid={'learn_rate': [0.001, 0.01, 0.1, 0.2, 0.3],\n",
                            "                         'momentum': [0.0, 0.2, 0.4, 0.6, 0.8, 0.9]})"
                        ]
                    },
                    "metadata": {},
                    "execution_count": 26
                }
            ],
            "metadata": {}
        },
        {
            "cell_type": "code",
            "execution_count": 27,
            "source": [
                "print('Best: %f using %s' % (grid_result.best_score_, grid_result.best_params_))\r\n",
                "means = grid_result.cv_results_['mean_test_score']\r\n",
                "stds = grid_result.cv_results_['std_test_score']\r\n",
                "params = grid_result.cv_results_['params']\r\n",
                "\r\n",
                "for mean, stdev, param, in zip(means, stds, params):\r\n",
                "    print('%f (%f) %r' % (mean, stdev, param))"
            ],
            "outputs": [
                {
                    "output_type": "stream",
                    "name": "stdout",
                    "text": [
                        "Best: 0.682292 using {'learn_rate': 0.001, 'momentum': 0.4}\n",
                        "0.640625 (0.019401) {'learn_rate': 0.001, 'momentum': 0.0}\n",
                        "0.674479 (0.033197) {'learn_rate': 0.001, 'momentum': 0.2}\n",
                        "0.682292 (0.020256) {'learn_rate': 0.001, 'momentum': 0.4}\n",
                        "0.682292 (0.021710) {'learn_rate': 0.001, 'momentum': 0.6}\n",
                        "0.677083 (0.029635) {'learn_rate': 0.001, 'momentum': 0.8}\n",
                        "0.651042 (0.021710) {'learn_rate': 0.001, 'momentum': 0.9}\n",
                        "0.664062 (0.005524) {'learn_rate': 0.01, 'momentum': 0.0}\n",
                        "0.651042 (0.024774) {'learn_rate': 0.01, 'momentum': 0.2}\n",
                        "0.644531 (0.022326) {'learn_rate': 0.01, 'momentum': 0.4}\n",
                        "0.661458 (0.038051) {'learn_rate': 0.01, 'momentum': 0.6}\n",
                        "0.651042 (0.024774) {'learn_rate': 0.01, 'momentum': 0.8}\n",
                        "0.651042 (0.024774) {'learn_rate': 0.01, 'momentum': 0.9}\n",
                        "0.651042 (0.024774) {'learn_rate': 0.1, 'momentum': 0.0}\n",
                        "0.651042 (0.024774) {'learn_rate': 0.1, 'momentum': 0.2}\n",
                        "0.651042 (0.024774) {'learn_rate': 0.1, 'momentum': 0.4}\n",
                        "0.651042 (0.024774) {'learn_rate': 0.1, 'momentum': 0.6}\n",
                        "0.649740 (0.024360) {'learn_rate': 0.1, 'momentum': 0.8}\n",
                        "0.651042 (0.024774) {'learn_rate': 0.1, 'momentum': 0.9}\n",
                        "0.651042 (0.024774) {'learn_rate': 0.2, 'momentum': 0.0}\n",
                        "0.651042 (0.024774) {'learn_rate': 0.2, 'momentum': 0.2}\n",
                        "0.651042 (0.024774) {'learn_rate': 0.2, 'momentum': 0.4}\n",
                        "0.651042 (0.024774) {'learn_rate': 0.2, 'momentum': 0.6}\n",
                        "0.651042 (0.024774) {'learn_rate': 0.2, 'momentum': 0.8}\n",
                        "0.651042 (0.024774) {'learn_rate': 0.2, 'momentum': 0.9}\n",
                        "0.651042 (0.024774) {'learn_rate': 0.3, 'momentum': 0.0}\n",
                        "0.649740 (0.026557) {'learn_rate': 0.3, 'momentum': 0.2}\n",
                        "0.651042 (0.024774) {'learn_rate': 0.3, 'momentum': 0.4}\n",
                        "0.651042 (0.024774) {'learn_rate': 0.3, 'momentum': 0.6}\n",
                        "0.651042 (0.024774) {'learn_rate': 0.3, 'momentum': 0.8}\n",
                        "0.651042 (0.024774) {'learn_rate': 0.3, 'momentum': 0.9}\n"
                    ]
                }
            ],
            "metadata": {}
        },
        {
            "cell_type": "markdown",
            "source": [
                "Tuning the Neuron Activation Function"
            ],
            "metadata": {}
        },
        {
            "cell_type": "code",
            "execution_count": 28,
            "source": [
                "def create_model_4(activation='relu'):\r\n",
                "    model_4 = Sequential()\r\n",
                "    model_4.add(Dense(12, input_dim=8, kernel_initializer='uniform', activation=activation))\r\n",
                "    model_4.add(Dense(1, kernel_initializer='uniform', activation='sigmoid'))\r\n",
                "\r\n",
                "    model_4.compile(loss='binary_crossentropy', optimizer='adam', metrics=['accuracy'])\r\n",
                "    return model_4"
            ],
            "outputs": [],
            "metadata": {}
        },
        {
            "cell_type": "code",
            "execution_count": 29,
            "source": [
                "model_4_4 = KerasClassifier(build_fn=create_model_4, epochs=100, batch_size=10, verbose=0)"
            ],
            "outputs": [],
            "metadata": {}
        },
        {
            "cell_type": "code",
            "execution_count": 30,
            "source": [
                "activation=['softmax', 'softplus', 'softsign', 'relu', 'tanh', 'sigmoid', 'hard_sigmoid', 'linear']\r\n",
                "param_grid= dict(activation=activation)\r\n",
                "grid = GridSearchCV(estimator=model_4_4, param_grid=param_grid, n_jobs=-1, cv=3)\r\n",
                "grid_result = grid.fit(X, y)"
            ],
            "outputs": [],
            "metadata": {}
        },
        {
            "cell_type": "code",
            "execution_count": 31,
            "source": [
                "print('Best: %f using %s' % (grid_result.best_score_, grid_result.best_params_))\r\n",
                "means = grid_result.cv_results_['mean_test_score']\r\n",
                "stds = grid_result.cv_results_['std_test_score']\r\n",
                "params = grid_result.cv_results_['params']\r\n",
                "\r\n",
                "for mean, stdev, param in zip(means, stds, params):\r\n",
                "    print('%f (%f) with %r' % (mean, stdev, param))"
            ],
            "outputs": [
                {
                    "output_type": "stream",
                    "name": "stdout",
                    "text": [
                        "Best: 0.727865 using {'activation': 'softplus'}\n",
                        "0.657552 (0.031948) with {'activation': 'softmax'}\n",
                        "0.727865 (0.015073) with {'activation': 'softplus'}\n",
                        "0.690104 (0.020752) with {'activation': 'softsign'}\n",
                        "0.726562 (0.006379) with {'activation': 'relu'}\n",
                        "0.673177 (0.009744) with {'activation': 'tanh'}\n",
                        "0.675781 (0.024080) with {'activation': 'sigmoid'}\n",
                        "0.691406 (0.012758) with {'activation': 'hard_sigmoid'}\n",
                        "0.718750 (0.028348) with {'activation': 'linear'}\n"
                    ]
                }
            ],
            "metadata": {}
        },
        {
            "cell_type": "markdown",
            "source": [
                "tuning Dropout Regularization"
            ],
            "metadata": {}
        },
        {
            "cell_type": "code",
            "execution_count": 32,
            "source": [
                "from tensorflow.keras.constraints import MaxNorm\r\n",
                "from tensorflow.keras.layers import Dropout"
            ],
            "outputs": [],
            "metadata": {}
        },
        {
            "cell_type": "code",
            "execution_count": 33,
            "source": [
                "def create_model_5(dropout_rate=0.0, weight_constraint=0):\r\n",
                "    model_5 = Sequential()\r\n",
                "    model_5.add(Dense(12, input_dim=8, kernel_initializer='uniform', activation='linear', kernel_constraint=MaxNorm(weight_constraint)))\r\n",
                "    model_5.add(Dropout(dropout_rate))\r\n",
                "    model_5.add(Dense(1, kernel_initializer='uniform', activation='sigmoid'))\r\n",
                "\r\n",
                "    model_5.compile(loss='binary_crossentropy', optimizer='adam', metrics=['accuracy'])\r\n",
                "    return model_5"
            ],
            "outputs": [],
            "metadata": {}
        },
        {
            "cell_type": "code",
            "execution_count": 34,
            "source": [
                "model_5_5 = KerasClassifier(build_fn=create_model_5, epochs=100, batch_size=10, verbose=0)"
            ],
            "outputs": [],
            "metadata": {}
        },
        {
            "cell_type": "code",
            "execution_count": 35,
            "source": [
                "weight_constraint = [1,2,3,4,5]\r\n",
                "dropout_rate = [0.0, 0.1, 0.2, 0.3, 0.4, 0.5, 0.6, 0.7, 0.8, 0.9]\r\n",
                "\r\n",
                "param_grid = dict(dropout_rate=dropout_rate, weight_constraint=weight_constraint)\r\n",
                "grid = GridSearchCV(estimator=model_5_5, param_grid=param_grid, n_jobs=-1, cv=3)\r\n",
                "grid_result = grid.fit(X, y)"
            ],
            "outputs": [],
            "metadata": {}
        },
        {
            "cell_type": "code",
            "execution_count": null,
            "source": [
                "print('Best: %f using %s' % (grid_result.best_score_, grid_result.best_params_))\r\n",
                "\r\n",
                "means =  grid_result.cv_results_['mean_test_score']\r\n",
                "stds = grid_result.cv_results_['std_test_score']\r\n",
                "params = grid_result.cv_results_['params']\r\n",
                "\r\n",
                "for mean, stdev, param in zip(means, stds, params):\r\n",
                "    print('%f (%f) with: %r' % (mean, stdev, param))"
            ],
            "outputs": [
                {
                    "output_type": "stream",
                    "name": "stdout",
                    "text": [
                        "Best: 0.717448 using {'dropout_rate': 0.0, 'weight_constraint': 2}\n",
                        "0.696615 (0.015073) with: {'dropout_rate': 0.0, 'weight_constraint': 1}\n",
                        "0.717448 (0.004872) with: {'dropout_rate': 0.0, 'weight_constraint': 2}\n",
                        "0.710938 (0.022097) with: {'dropout_rate': 0.0, 'weight_constraint': 3}\n",
                        "0.710938 (0.008438) with: {'dropout_rate': 0.0, 'weight_constraint': 4}\n",
                        "0.714844 (0.008438) with: {'dropout_rate': 0.0, 'weight_constraint': 5}\n",
                        "0.701823 (0.022402) with: {'dropout_rate': 0.1, 'weight_constraint': 1}\n",
                        "0.712240 (0.038582) with: {'dropout_rate': 0.1, 'weight_constraint': 2}\n",
                        "0.714844 (0.019137) with: {'dropout_rate': 0.1, 'weight_constraint': 3}\n",
                        "0.701823 (0.018688) with: {'dropout_rate': 0.1, 'weight_constraint': 4}\n",
                        "0.717448 (0.003683) with: {'dropout_rate': 0.1, 'weight_constraint': 5}\n",
                        "0.700521 (0.016367) with: {'dropout_rate': 0.2, 'weight_constraint': 1}\n",
                        "0.713542 (0.006639) with: {'dropout_rate': 0.2, 'weight_constraint': 2}\n",
                        "0.710938 (0.008438) with: {'dropout_rate': 0.2, 'weight_constraint': 3}\n",
                        "0.708333 (0.033197) with: {'dropout_rate': 0.2, 'weight_constraint': 4}\n",
                        "0.709635 (0.020505) with: {'dropout_rate': 0.2, 'weight_constraint': 5}\n",
                        "0.696615 (0.012890) with: {'dropout_rate': 0.3, 'weight_constraint': 1}\n",
                        "0.712240 (0.009744) with: {'dropout_rate': 0.3, 'weight_constraint': 2}\n",
                        "0.707031 (0.012758) with: {'dropout_rate': 0.3, 'weight_constraint': 3}\n",
                        "0.700521 (0.014382) with: {'dropout_rate': 0.3, 'weight_constraint': 4}\n",
                        "0.707031 (0.036782) with: {'dropout_rate': 0.3, 'weight_constraint': 5}\n",
                        "0.716146 (0.019488) with: {'dropout_rate': 0.4, 'weight_constraint': 1}\n",
                        "0.703125 (0.011500) with: {'dropout_rate': 0.4, 'weight_constraint': 2}\n",
                        "0.700521 (0.019225) with: {'dropout_rate': 0.4, 'weight_constraint': 3}\n",
                        "0.714844 (0.022326) with: {'dropout_rate': 0.4, 'weight_constraint': 4}\n",
                        "0.714844 (0.006379) with: {'dropout_rate': 0.4, 'weight_constraint': 5}\n",
                        "0.699219 (0.009568) with: {'dropout_rate': 0.5, 'weight_constraint': 1}\n",
                        "0.700521 (0.010253) with: {'dropout_rate': 0.5, 'weight_constraint': 2}\n",
                        "0.688802 (0.020505) with: {'dropout_rate': 0.5, 'weight_constraint': 3}\n",
                        "0.712240 (0.024150) with: {'dropout_rate': 0.5, 'weight_constraint': 4}\n",
                        "0.708333 (0.008027) with: {'dropout_rate': 0.5, 'weight_constraint': 5}\n",
                        "0.695312 (0.029232) with: {'dropout_rate': 0.6, 'weight_constraint': 1}\n",
                        "0.697917 (0.021236) with: {'dropout_rate': 0.6, 'weight_constraint': 2}\n",
                        "0.699219 (0.014616) with: {'dropout_rate': 0.6, 'weight_constraint': 3}\n",
                        "0.713542 (0.011201) with: {'dropout_rate': 0.6, 'weight_constraint': 4}\n",
                        "0.703125 (0.016877) with: {'dropout_rate': 0.6, 'weight_constraint': 5}\n",
                        "0.712240 (0.012075) with: {'dropout_rate': 0.7, 'weight_constraint': 1}\n",
                        "0.688802 (0.025582) with: {'dropout_rate': 0.7, 'weight_constraint': 2}\n",
                        "0.708333 (0.009207) with: {'dropout_rate': 0.7, 'weight_constraint': 3}\n",
                        "0.704427 (0.011201) with: {'dropout_rate': 0.7, 'weight_constraint': 4}\n",
                        "0.691406 (0.011500) with: {'dropout_rate': 0.7, 'weight_constraint': 5}\n",
                        "0.695312 (0.022326) with: {'dropout_rate': 0.8, 'weight_constraint': 1}\n",
                        "0.690104 (0.021236) with: {'dropout_rate': 0.8, 'weight_constraint': 2}\n",
                        "0.696615 (0.018136) with: {'dropout_rate': 0.8, 'weight_constraint': 3}\n",
                        "0.701823 (0.001841) with: {'dropout_rate': 0.8, 'weight_constraint': 4}\n",
                        "0.690104 (0.018688) with: {'dropout_rate': 0.8, 'weight_constraint': 5}\n",
                        "0.660156 (0.036782) with: {'dropout_rate': 0.9, 'weight_constraint': 1}\n",
                        "0.675781 (0.019918) with: {'dropout_rate': 0.9, 'weight_constraint': 2}\n",
                        "0.671875 (0.022999) with: {'dropout_rate': 0.9, 'weight_constraint': 3}\n",
                        "0.675781 (0.006379) with: {'dropout_rate': 0.9, 'weight_constraint': 4}\n",
                        "0.669271 (0.027498) with: {'dropout_rate': 0.9, 'weight_constraint': 5}\n"
                    ]
                }
            ],
            "metadata": {}
        },
        {
            "cell_type": "markdown",
            "source": [
                "Tuning the Number of Neurons on the Hidden layer"
            ],
            "metadata": {}
        },
        {
            "cell_type": "code",
            "execution_count": null,
            "source": [
                "def create_model_6(neurons=1):\r\n",
                "\r\n",
                "    model_6 = Sequential()\r\n",
                "    model_6.add(Dense(neurons, input_dim=8, kernel_initializer='uniform', activation='linear', kernel_constraint=MaxNorm(4)))\r\n",
                "    model_6.add(Dropout(0.2))\r\n",
                "    model_6.add(Dense(1, kernel_initializer='uniform', activation='sigmoid'))\r\n",
                "\r\n",
                "    model_6.compile(loss='binary_crossentropy', optimizer='adam', metrics=['accuracy'])\r\n",
                "    return model_6"
            ],
            "outputs": [],
            "metadata": {}
        },
        {
            "cell_type": "code",
            "execution_count": null,
            "source": [
                "model_6_6 = KerasClassifier(build_fn=create_model_6, epochs=100, batch_size=10, verbose=0)"
            ],
            "outputs": [],
            "metadata": {}
        },
        {
            "cell_type": "code",
            "execution_count": null,
            "source": [
                "neurons = [1, 5, 10, 15, 20, 25, 30]\r\n",
                "param_grid =  dict(neurons=neurons)\r\n",
                "grid = GridSearchCV(estimator=model_6_6, param_grid=param_grid, n_jobs=-1, cv=3)\r\n",
                "grid_result =  grid.fit(X, y)"
            ],
            "outputs": [],
            "metadata": {}
        },
        {
            "cell_type": "code",
            "execution_count": null,
            "source": [
                "print('Best %f using %s' % (grid_result.best_score_, grid_result.best_params_))\r\n",
                "\r\n",
                "means = grid_result.cv_results_['mean_test_score']\r\n",
                "stds = grid_result.cv_results_['std_test_score']\r\n",
                "params = grid_result.cv_results_['params']\r\n",
                "\r\n",
                "for mean, stdev, param in zip(means, stds, params):\r\n",
                "    print('%f (%f) with: %r' % (mean, stdev, param))"
            ],
            "outputs": [],
            "metadata": {}
        },
        {
            "cell_type": "markdown",
            "source": [
                "Best parameters:\r\n",
                "Batch size: 10 Epoch: 100\r\n",
                "optimizer: Adam\r\n",
                "learn_rate: 0.001 momentum: 0.0\r\n",
                "activation: softplus\r\n",
                "dropout_rate: 0.0 weight_constraint: 2\r\n"
            ],
            "metadata": {}
        },
        {
            "cell_type": "code",
            "execution_count": null,
            "source": [],
            "outputs": [],
            "metadata": {}
        }
    ],
    "metadata": {
        "orig_nbformat": 4,
        "language_info": {
            "name": "python",
            "version": "3.9.5",
            "mimetype": "text/x-python",
            "codemirror_mode": {
                "name": "ipython",
                "version": 3
            },
            "pygments_lexer": "ipython3",
            "nbconvert_exporter": "python",
            "file_extension": ".py"
        },
        "kernelspec": {
            "name": "python3",
            "display_name": "Python 3.9.5 64-bit"
        },
        "interpreter": {
            "hash": "ce1e901da04acbe50dd99cd0d91cb411cb2166c3507dec81ce620981a8df4741"
        }
    },
    "nbformat": 4,
    "nbformat_minor": 2
}
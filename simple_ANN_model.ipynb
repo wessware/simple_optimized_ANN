{
    "cells": [
        {
            "cell_type": "code",
            "execution_count": 36,
            "source": [
                "from numpy import loadtxt\r\n",
                "from tensorflow.python.keras.models import Sequential\r\n",
                "from tensorflow.python.keras.layers import Dense \r\n",
                "import pandas as pd \r\n",
                "import numpy as np\r\n",
                "from sklearn.model_selection import GridSearchCV\r\n",
                "from tensorflow.python.keras.wrappers.scikit_learn import KerasClassifier\r\n",
                "import matplotlib.pyplot as plt\r\n",
                "from tensorflow.keras.optimizers import SGD"
            ],
            "outputs": [],
            "metadata": {}
        },
        {
            "cell_type": "code",
            "execution_count": 2,
            "source": [
                "data = loadtxt('pima-indians-diabetes.csv', delimiter=',')"
            ],
            "outputs": [],
            "metadata": {}
        },
        {
            "cell_type": "code",
            "execution_count": 3,
            "source": [
                "X = data[:, 0:8]\r\n",
                "y = data[:, 8]"
            ],
            "outputs": [],
            "metadata": {}
        },
        {
            "cell_type": "code",
            "execution_count": 4,
            "source": [
                "ann_model = Sequential()\r\n",
                "ann_model.add(Dense(12, input_dim=8, activation='relu'))\r\n",
                "ann_model.add(Dense(8, activation='relu'))\r\n",
                "ann_model.add(Dense(1, activation='sigmoid'))"
            ],
            "outputs": [],
            "metadata": {}
        },
        {
            "cell_type": "code",
            "execution_count": 5,
            "source": [
                "ann_model.compile(loss='binary_crossentropy', optimizer='adam', metrics=['accuracy'])"
            ],
            "outputs": [],
            "metadata": {}
        },
        {
            "cell_type": "code",
            "execution_count": 6,
            "source": [
                "ann_model.fit(X, y, epochs=150, batch_size=10, verbose=0)"
            ],
            "outputs": [
                {
                    "output_type": "execute_result",
                    "data": {
                        "text/plain": [
                            "<tensorflow.python.keras.callbacks.History at 0x134cc26c790>"
                        ]
                    },
                    "metadata": {},
                    "execution_count": 6
                }
            ],
            "metadata": {}
        },
        {
            "cell_type": "code",
            "execution_count": 7,
            "source": [
                "_, accuracy = ann_model.evaluate(X,y)\r\n",
                "print('Accuracy: %.2f' % (accuracy*100))"
            ],
            "outputs": [
                {
                    "output_type": "stream",
                    "name": "stdout",
                    "text": [
                        "24/24 [==============================] - 1s 5ms/step - loss: 0.4517 - accuracy: 0.7891\n",
                        "Accuracy: 78.91\n"
                    ]
                }
            ],
            "metadata": {}
        },
        {
            "cell_type": "code",
            "execution_count": 8,
            "source": [
                "predictions = ann_model.predict(X)"
            ],
            "outputs": [],
            "metadata": {}
        },
        {
            "cell_type": "code",
            "execution_count": 9,
            "source": [
                "for i in range(5):\r\n",
                "    print('%s => %d (expected %d)' % (X[i].tolist(), predictions[i], y[i]))"
            ],
            "outputs": [
                {
                    "output_type": "stream",
                    "name": "stdout",
                    "text": [
                        "[6.0, 148.0, 72.0, 35.0, 0.0, 33.6, 0.627, 50.0] => 0 (expected 1)\n",
                        "[1.0, 85.0, 66.0, 29.0, 0.0, 26.6, 0.351, 31.0] => 0 (expected 0)\n",
                        "[8.0, 183.0, 64.0, 0.0, 0.0, 23.3, 0.672, 32.0] => 0 (expected 1)\n",
                        "[1.0, 89.0, 66.0, 23.0, 94.0, 28.1, 0.167, 21.0] => 0 (expected 0)\n",
                        "[0.0, 137.0, 40.0, 35.0, 168.0, 43.1, 2.288, 33.0] => 0 (expected 1)\n"
                    ]
                }
            ],
            "metadata": {}
        },
        {
            "cell_type": "markdown",
            "source": [
                "TUNING THE MODEL TO IMPROVE ACCURACY AND EFFICIENCY\r\n",
                "Tuning for the Batch Size and the Number of epochs"
            ],
            "metadata": {}
        },
        {
            "cell_type": "code",
            "execution_count": 11,
            "source": [
                "def create_model():\r\n",
                "    model = Sequential()\r\n",
                "    model.add(Dense(12, input_dim=8, activation='relu'))\r\n",
                "    model.add(Dense(1, activation='sigmoid'))\r\n",
                "\r\n",
                "    model.compile(loss='binary_crossentropy', optimizer='adam', metrics=['accuracy'])\r\n",
                "    return model"
            ],
            "outputs": [],
            "metadata": {}
        },
        {
            "cell_type": "code",
            "execution_count": 14,
            "source": [
                "\r\n",
                "seed=7\r\n",
                "np.random.seed(seed)"
            ],
            "outputs": [],
            "metadata": {}
        },
        {
            "cell_type": "code",
            "execution_count": 16,
            "source": [
                "model = KerasClassifier(build_fn=create_model, verbose=0)"
            ],
            "outputs": [],
            "metadata": {}
        },
        {
            "cell_type": "code",
            "execution_count": 18,
            "source": [
                "batch = [10, 20, 40, 60, 80, 100]\r\n",
                "epoch = [10, 50, 100]\r\n",
                "parameter_grid = dict(batch_size=batch, epochs=epoch)\r\n",
                "grid = GridSearchCV(estimator=model, param_grid=parameter_grid, n_jobs=-1, cv=3)\r\n",
                "grid_result = grid.fit(X, y)"
            ],
            "outputs": [],
            "metadata": {}
        },
        {
            "cell_type": "code",
            "execution_count": 19,
            "source": [
                "print('Best %f using %s' % (grid_result.best_score_, grid_result.best_params_))\r\n",
                "means = grid_result.cv_results_['mean_test_score']\r\n",
                "stds = grid_result.cv_results_['std_test_score']\r\n",
                "params = grid_result.cv_results_['params']\r\n",
                "\r\n",
                "for mean, stdev, param, in zip(means, stds, params):\r\n",
                "    print('%f (%f) with: %r' % (mean, stdev, param))"
            ],
            "outputs": [
                {
                    "output_type": "stream",
                    "name": "stdout",
                    "text": [
                        "Best 0.695312 using {'batch_size': 10, 'epochs': 100}\n",
                        "0.583333 (0.013279) with: {'batch_size': 10, 'epochs': 10}\n",
                        "0.675781 (0.011500) with: {'batch_size': 10, 'epochs': 50}\n",
                        "0.695312 (0.005524) with: {'batch_size': 10, 'epochs': 100}\n",
                        "0.593750 (0.041707) with: {'batch_size': 20, 'epochs': 10}\n",
                        "0.667969 (0.038273) with: {'batch_size': 20, 'epochs': 50}\n",
                        "0.692708 (0.032578) with: {'batch_size': 20, 'epochs': 100}\n",
                        "0.588542 (0.067079) with: {'batch_size': 40, 'epochs': 10}\n",
                        "0.645833 (0.039879) with: {'batch_size': 40, 'epochs': 50}\n",
                        "0.665365 (0.018688) with: {'batch_size': 40, 'epochs': 100}\n",
                        "0.518229 (0.078407) with: {'batch_size': 60, 'epochs': 10}\n",
                        "0.611979 (0.016367) with: {'batch_size': 60, 'epochs': 50}\n",
                        "0.654948 (0.040386) with: {'batch_size': 60, 'epochs': 100}\n",
                        "0.477865 (0.040133) with: {'batch_size': 80, 'epochs': 10}\n",
                        "0.619792 (0.014382) with: {'batch_size': 80, 'epochs': 50}\n",
                        "0.664062 (0.014616) with: {'batch_size': 80, 'epochs': 100}\n",
                        "0.592448 (0.068875) with: {'batch_size': 100, 'epochs': 10}\n",
                        "0.627604 (0.021236) with: {'batch_size': 100, 'epochs': 50}\n",
                        "0.658854 (0.032734) with: {'batch_size': 100, 'epochs': 100}\n"
                    ]
                }
            ],
            "metadata": {}
        },
        {
            "cell_type": "code",
            "execution_count": 31,
            "source": [
                "def create_model_1(optimizer='adam'):\r\n",
                "    model_1 = Sequential()\r\n",
                "    model_1.add(Dense(12, input_dim=8, activation='relu'))\r\n",
                "    model_1.add(Dense(1, activation='sigmoid'))\r\n",
                "\r\n",
                "    model_1.compile(loss='binary_crossentropy', optimizer=optimizer, metrics=['accuracy'])\r\n",
                "    return model_1"
            ],
            "outputs": [],
            "metadata": {}
        },
        {
            "cell_type": "markdown",
            "source": [
                "Tuning the optimization algorithm "
            ],
            "metadata": {}
        },
        {
            "cell_type": "code",
            "execution_count": 32,
            "source": [
                "model_1_1 = KerasClassifier(build_fn=create_model_1, epochs=100, batch_size=10, verbose=0)"
            ],
            "outputs": [],
            "metadata": {}
        },
        {
            "cell_type": "code",
            "execution_count": 33,
            "source": [
                "optimizer = ['SGD', 'RMSprop', 'Adagrad', 'Adadelta', 'Adam', 'Adamax', 'Nadam']\r\n",
                "param_grid = dict(optimizer=optimizer)\r\n",
                "grid = GridSearchCV(estimator=model_1_1, param_grid=param_grid, n_jobs=-1, cv=3)\r\n",
                "grid_result = grid.fit(X, y)"
            ],
            "outputs": [],
            "metadata": {}
        },
        {
            "cell_type": "code",
            "execution_count": 34,
            "source": [
                "print('Best: %f using %s' % (grid_result.best_score_, grid_result.best_params_))\r\n",
                "means = grid_result.cv_results_['mean_test_score']\r\n",
                "stds = grid_result.cv_results_['std_test_score']\r\n",
                "params = grid_result.cv_results_['params']\r\n",
                "\r\n",
                "for mean, stdev, param in zip(means, stds, params):\r\n",
                "    print('%f (%f) with %r' % (mean, stdev, param))"
            ],
            "outputs": [
                {
                    "output_type": "stream",
                    "name": "stdout",
                    "text": [
                        "Best: 0.696615 using {'optimizer': 'Adam'}\n",
                        "0.661458 (0.023939) with {'optimizer': 'SGD'}\n",
                        "0.647135 (0.019488) with {'optimizer': 'RMSprop'}\n",
                        "0.631510 (0.026748) with {'optimizer': 'Adagrad'}\n",
                        "0.570312 (0.132927) with {'optimizer': 'Adadelta'}\n",
                        "0.696615 (0.038051) with {'optimizer': 'Adam'}\n",
                        "0.687500 (0.019137) with {'optimizer': 'Adamax'}\n",
                        "0.675781 (0.024080) with {'optimizer': 'Nadam'}\n"
                    ]
                }
            ],
            "metadata": {}
        },
        {
            "cell_type": "markdown",
            "source": [
                "Tuning the Learning rate and the Momentum"
            ],
            "metadata": {}
        },
        {
            "cell_type": "code",
            "execution_count": 42,
            "source": [
                "\r\n",
                "def create_model_2(learn_rate=0.01, momentum=0):\r\n",
                "    model_2 = Sequential()\r\n",
                "    model_2.add(Dense(12, input_dim=8, activation='relu'))\r\n",
                "    model_2.add(Dense(1, activation='sigmoid'))\r\n",
                "\r\n",
                "    optimizer = SGD(lr=learn_rate, momentum=momentum)\r\n",
                "\r\n",
                "    model_2.compile(loss='binary_crossentropy', optimizer=optimizer, metrics=['accuracy'])\r\n",
                "    return model_2"
            ],
            "outputs": [],
            "metadata": {}
        },
        {
            "cell_type": "code",
            "execution_count": 38,
            "source": [
                "model_2_2 = KerasClassifier(build_fn=create_model_2, epochs=100, batch_size=10, verbose=0)"
            ],
            "outputs": [],
            "metadata": {}
        },
        {
            "cell_type": "code",
            "execution_count": 39,
            "source": [
                "learn_rate = [0.001, 0.01, 0.1, 0.2, 0.3]\r\n",
                "momentum = [0.0, 0.2, 0.4, 0.6, 0.8, 0.9]"
            ],
            "outputs": [],
            "metadata": {}
        },
        {
            "cell_type": "code",
            "execution_count": 43,
            "source": [
                "param_grid= dict(learn_rate=learn_rate, momentum=momentum)\r\n",
                "grid = GridSearchCV(estimator=model_2_2, param_grid=param_grid, n_jobs=-1, cv=3)\r\n",
                "grid_result = grid.fit(X, y)"
            ],
            "outputs": [],
            "metadata": {}
        },
        {
            "cell_type": "code",
            "execution_count": null,
            "source": [
                "print(\"Best: %f using %s\" % (grid_result.best_score_, grid_result.best_params_))\r\n",
                "means = grid_result.cv_results_['mean_test_score']\r\n",
                "stds = grid_result.cv_results_['std_test_score']\r\n",
                "params = grid_result.cv_resultss_['params']\r\n",
                "\r\n",
                "for mean, stdev, param in zip (means, stds, params):\r\n",
                "    print('%f with: %r' % (mean, stdev, param))"
            ],
            "outputs": [],
            "metadata": {}
        },
        {
            "cell_type": "code",
            "execution_count": null,
            "source": [],
            "outputs": [],
            "metadata": {}
        }
    ],
    "metadata": {
        "orig_nbformat": 4,
        "language_info": {
            "name": "python",
            "version": "3.9.5",
            "mimetype": "text/x-python",
            "codemirror_mode": {
                "name": "ipython",
                "version": 3
            },
            "pygments_lexer": "ipython3",
            "nbconvert_exporter": "python",
            "file_extension": ".py"
        },
        "kernelspec": {
            "name": "python3",
            "display_name": "Python 3.9.5 64-bit"
        },
        "interpreter": {
            "hash": "ce1e901da04acbe50dd99cd0d91cb411cb2166c3507dec81ce620981a8df4741"
        }
    },
    "nbformat": 4,
    "nbformat_minor": 2
}
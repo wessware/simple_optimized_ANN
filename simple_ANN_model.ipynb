{
    "cells": [
        {
            "cell_type": "code",
            "execution_count": 16,
            "source": [
                "from numpy import loadtxt\r\n",
                "from tensorflow.python.keras.models import Sequential\r\n",
                "from tensorflow.python.keras.layers import Dense \r\n",
                "import pandas as pd "
            ],
            "outputs": [],
            "metadata": {}
        },
        {
            "cell_type": "code",
            "execution_count": 4,
            "source": [
                "data = loadtxt('pima-indians-diabetes.csv', delimiter=',')"
            ],
            "outputs": [],
            "metadata": {}
        },
        {
            "cell_type": "code",
            "execution_count": 5,
            "source": [
                "X = data[:, 0:8]\r\n",
                "y = data[:, 8]"
            ],
            "outputs": [],
            "metadata": {}
        },
        {
            "cell_type": "code",
            "execution_count": 6,
            "source": [
                "ann_model = Sequential()\r\n",
                "ann_model.add(Dense(12, input_dim=8, activation='relu'))\r\n",
                "ann_model.add(Dense(8, activation='relu'))\r\n",
                "ann_model.add(Dense(1, activation='sigmoid'))"
            ],
            "outputs": [],
            "metadata": {}
        },
        {
            "cell_type": "code",
            "execution_count": 7,
            "source": [
                "ann_model.compile(loss='binary_crossentropy', optimizer='adam', metrics=['accuracy'])"
            ],
            "outputs": [],
            "metadata": {}
        },
        {
            "cell_type": "code",
            "execution_count": 14,
            "source": [
                "ann_model.fit(X, y, epochs=150, batch_size=10, verbose=0)"
            ],
            "outputs": [
                {
                    "output_type": "execute_result",
                    "data": {
                        "text/plain": [
                            "<tensorflow.python.keras.callbacks.History at 0x1f0a8eb3af0>"
                        ]
                    },
                    "metadata": {},
                    "execution_count": 14
                }
            ],
            "metadata": {}
        },
        {
            "cell_type": "code",
            "execution_count": 9,
            "source": [
                "_, accuracy = ann_model.evaluate(X,y)\r\n",
                "print('Accuracy: %.2f' % (accuracy*100))"
            ],
            "outputs": [
                {
                    "output_type": "stream",
                    "name": "stdout",
                    "text": [
                        "24/24 [==============================] - 1s 6ms/step - loss: 0.4956 - accuracy: 0.7617\n",
                        "Accuracy: 76.17\n"
                    ]
                }
            ],
            "metadata": {}
        },
        {
            "cell_type": "code",
            "execution_count": 11,
            "source": [
                "predictions = ann_model.predict(X)"
            ],
            "outputs": [],
            "metadata": {}
        },
        {
            "cell_type": "code",
            "execution_count": 13,
            "source": [
                "for i in range(5):\r\n",
                "    print('%s => %d (expected %d)' % (X[i].tolist(), predictions[i], y[i]))"
            ],
            "outputs": [
                {
                    "output_type": "stream",
                    "name": "stdout",
                    "text": [
                        "[6.0, 148.0, 72.0, 35.0, 0.0, 33.6, 0.627, 50.0] => 0 (expected 1)\n",
                        "[1.0, 85.0, 66.0, 29.0, 0.0, 26.6, 0.351, 31.0] => 0 (expected 0)\n",
                        "[8.0, 183.0, 64.0, 0.0, 0.0, 23.3, 0.672, 32.0] => 0 (expected 1)\n",
                        "[1.0, 89.0, 66.0, 23.0, 94.0, 28.1, 0.167, 21.0] => 0 (expected 0)\n",
                        "[0.0, 137.0, 40.0, 35.0, 168.0, 43.1, 2.288, 33.0] => 0 (expected 1)\n"
                    ]
                }
            ],
            "metadata": {}
        },
        {
            "cell_type": "code",
            "execution_count": 22,
            "source": [
                "def var_parameter(e):\r\n",
                "     \r\n",
                "    ann_model_1 = Sequential()\r\n",
                "    ann_model_1.add(Dense(12, input_dim=8, activation='relu'))\r\n",
                "    ann_model_1.add(Dense(8, activation='relu'))\r\n",
                "    ann_model_1.add(Dense(1, activation='sigmoid'))\r\n",
                "\r\n",
                "    ann_model_1.compile(loss='binary_crossentropy', optimizer='adam', metrics=['accuracy'])\r\n",
                "\r\n",
                "    ann_model_1.fit(X, y, epochs=e, batch_size=e, verbose=0)\r\n",
                "\r\n",
                "    accuracy = ann_model.evaluate(X,y)\r\n",
                "\r\n",
                "    return{'Epochs' : e, 'Batch Size' : e, 'Accuracy' : accuracy}"
            ],
            "outputs": [],
            "metadata": {}
        },
        {
            "cell_type": "code",
            "execution_count": 26,
            "source": [
                "ann_model_evaluation = pd.DataFrame([var_parameter(e) for e in range(1, 150)])"
            ],
            "outputs": [
                {
                    "output_type": "stream",
                    "name": "stdout",
                    "text": [
                        "24/24 [==============================] - 0s 2ms/step - loss: 0.4661 - accuracy: 0.7721\n",
                        "24/24 [==============================] - 0s 2ms/step - loss: 0.4661 - accuracy: 0.7721\n",
                        "24/24 [==============================] - 0s 2ms/step - loss: 0.4661 - accuracy: 0.7721\n",
                        "24/24 [==============================] - 0s 2ms/step - loss: 0.4661 - accuracy: 0.7721\n",
                        "24/24 [==============================] - 0s 2ms/step - loss: 0.4661 - accuracy: 0.7721\n",
                        "24/24 [==============================] - 0s 2ms/step - loss: 0.4661 - accuracy: 0.7721\n",
                        "24/24 [==============================] - 0s 2ms/step - loss: 0.4661 - accuracy: 0.7721\n",
                        "24/24 [==============================] - 0s 2ms/step - loss: 0.4661 - accuracy: 0.7721\n",
                        "24/24 [==============================] - 0s 2ms/step - loss: 0.4661 - accuracy: 0.7721\n",
                        "24/24 [==============================] - 0s 3ms/step - loss: 0.4661 - accuracy: 0.7721\n",
                        "24/24 [==============================] - 0s 3ms/step - loss: 0.4661 - accuracy: 0.7721\n"
                    ]
                },
                {
                    "output_type": "stream",
                    "name": "stderr",
                    "text": [
                        "Exception ignored in: <function IteratorResourceDeleter.__del__ at 0x000001F09A8EC1F0>\n",
                        "Traceback (most recent call last):\n",
                        "  File \"C:\\Users\\Wessware\\AppData\\Local\\Packages\\PythonSoftwareFoundation.Python.3.9_qbz5n2kfra8p0\\LocalCache\\local-packages\\Python39\\site-packages\\tensorflow\\python\\data\\ops\\iterator_ops.py\", line 545, in __del__\n",
                        "    gen_dataset_ops.delete_iterator(\n",
                        "  File \"C:\\Users\\Wessware\\AppData\\Local\\Packages\\PythonSoftwareFoundation.Python.3.9_qbz5n2kfra8p0\\LocalCache\\local-packages\\Python39\\site-packages\\tensorflow\\python\\ops\\gen_dataset_ops.py\", line 1262, in delete_iterator\n",
                        "    _result = pywrap_tfe.TFE_Py_FastPathExecute(\n",
                        "KeyboardInterrupt: \n"
                    ]
                },
                {
                    "output_type": "stream",
                    "name": "stdout",
                    "text": [
                        "24/24 [==============================] - 0s 3ms/step - loss: 0.4661 - accuracy: 0.7721\n",
                        "24/24 [==============================] - 0s 4ms/step - loss: 0.4661 - accuracy: 0.7721\n",
                        "24/24 [==============================] - 0s 2ms/step - loss: 0.4661 - accuracy: 0.7721\n",
                        "24/24 [==============================] - 0s 6ms/step - loss: 0.4661 - accuracy: 0.7721\n",
                        "24/24 [==============================] - 0s 4ms/step - loss: 0.4661 - accuracy: 0.7721\n"
                    ]
                }
            ],
            "metadata": {}
        },
        {
            "cell_type": "code",
            "execution_count": 25,
            "source": [
                "ann_model_evaluation.head(150)"
            ],
            "outputs": [
                {
                    "output_type": "execute_result",
                    "data": {
                        "text/plain": [
                            "     Epochs  Batch Size                                   Accuracy\n",
                            "0         0           0  [0.46606317162513733, 0.7721354365348816]\n",
                            "1         1           1  [0.46606317162513733, 0.7721354365348816]\n",
                            "2         2           2  [0.46606317162513733, 0.7721354365348816]\n",
                            "3         3           3  [0.46606317162513733, 0.7721354365348816]\n",
                            "4         4           4  [0.46606317162513733, 0.7721354365348816]\n",
                            "..      ...         ...                                        ...\n",
                            "145     145         145  [0.46606317162513733, 0.7721354365348816]\n",
                            "146     146         146  [0.46606317162513733, 0.7721354365348816]\n",
                            "147     147         147  [0.46606317162513733, 0.7721354365348816]\n",
                            "148     148         148  [0.46606317162513733, 0.7721354365348816]\n",
                            "149     149         149  [0.46606317162513733, 0.7721354365348816]\n",
                            "\n",
                            "[150 rows x 3 columns]"
                        ],
                        "text/html": [
                            "<div>\n",
                            "<style scoped>\n",
                            "    .dataframe tbody tr th:only-of-type {\n",
                            "        vertical-align: middle;\n",
                            "    }\n",
                            "\n",
                            "    .dataframe tbody tr th {\n",
                            "        vertical-align: top;\n",
                            "    }\n",
                            "\n",
                            "    .dataframe thead th {\n",
                            "        text-align: right;\n",
                            "    }\n",
                            "</style>\n",
                            "<table border=\"1\" class=\"dataframe\">\n",
                            "  <thead>\n",
                            "    <tr style=\"text-align: right;\">\n",
                            "      <th></th>\n",
                            "      <th>Epochs</th>\n",
                            "      <th>Batch Size</th>\n",
                            "      <th>Accuracy</th>\n",
                            "    </tr>\n",
                            "  </thead>\n",
                            "  <tbody>\n",
                            "    <tr>\n",
                            "      <th>0</th>\n",
                            "      <td>0</td>\n",
                            "      <td>0</td>\n",
                            "      <td>[0.46606317162513733, 0.7721354365348816]</td>\n",
                            "    </tr>\n",
                            "    <tr>\n",
                            "      <th>1</th>\n",
                            "      <td>1</td>\n",
                            "      <td>1</td>\n",
                            "      <td>[0.46606317162513733, 0.7721354365348816]</td>\n",
                            "    </tr>\n",
                            "    <tr>\n",
                            "      <th>2</th>\n",
                            "      <td>2</td>\n",
                            "      <td>2</td>\n",
                            "      <td>[0.46606317162513733, 0.7721354365348816]</td>\n",
                            "    </tr>\n",
                            "    <tr>\n",
                            "      <th>3</th>\n",
                            "      <td>3</td>\n",
                            "      <td>3</td>\n",
                            "      <td>[0.46606317162513733, 0.7721354365348816]</td>\n",
                            "    </tr>\n",
                            "    <tr>\n",
                            "      <th>4</th>\n",
                            "      <td>4</td>\n",
                            "      <td>4</td>\n",
                            "      <td>[0.46606317162513733, 0.7721354365348816]</td>\n",
                            "    </tr>\n",
                            "    <tr>\n",
                            "      <th>...</th>\n",
                            "      <td>...</td>\n",
                            "      <td>...</td>\n",
                            "      <td>...</td>\n",
                            "    </tr>\n",
                            "    <tr>\n",
                            "      <th>145</th>\n",
                            "      <td>145</td>\n",
                            "      <td>145</td>\n",
                            "      <td>[0.46606317162513733, 0.7721354365348816]</td>\n",
                            "    </tr>\n",
                            "    <tr>\n",
                            "      <th>146</th>\n",
                            "      <td>146</td>\n",
                            "      <td>146</td>\n",
                            "      <td>[0.46606317162513733, 0.7721354365348816]</td>\n",
                            "    </tr>\n",
                            "    <tr>\n",
                            "      <th>147</th>\n",
                            "      <td>147</td>\n",
                            "      <td>147</td>\n",
                            "      <td>[0.46606317162513733, 0.7721354365348816]</td>\n",
                            "    </tr>\n",
                            "    <tr>\n",
                            "      <th>148</th>\n",
                            "      <td>148</td>\n",
                            "      <td>148</td>\n",
                            "      <td>[0.46606317162513733, 0.7721354365348816]</td>\n",
                            "    </tr>\n",
                            "    <tr>\n",
                            "      <th>149</th>\n",
                            "      <td>149</td>\n",
                            "      <td>149</td>\n",
                            "      <td>[0.46606317162513733, 0.7721354365348816]</td>\n",
                            "    </tr>\n",
                            "  </tbody>\n",
                            "</table>\n",
                            "<p>150 rows × 3 columns</p>\n",
                            "</div>"
                        ]
                    },
                    "metadata": {},
                    "execution_count": 25
                }
            ],
            "metadata": {}
        },
        {
            "cell_type": "code",
            "execution_count": null,
            "source": [],
            "outputs": [],
            "metadata": {}
        }
    ],
    "metadata": {
        "orig_nbformat": 4,
        "language_info": {
            "name": "python",
            "version": "3.9.5",
            "mimetype": "text/x-python",
            "codemirror_mode": {
                "name": "ipython",
                "version": 3
            },
            "pygments_lexer": "ipython3",
            "nbconvert_exporter": "python",
            "file_extension": ".py"
        },
        "kernelspec": {
            "name": "python3",
            "display_name": "Python 3.9.5 64-bit"
        },
        "interpreter": {
            "hash": "ce1e901da04acbe50dd99cd0d91cb411cb2166c3507dec81ce620981a8df4741"
        }
    },
    "nbformat": 4,
    "nbformat_minor": 2
}